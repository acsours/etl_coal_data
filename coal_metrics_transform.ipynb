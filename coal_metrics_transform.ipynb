{
 "cells": [
  {
   "cell_type": "code",
   "execution_count": null,
   "metadata": {},
   "outputs": [],
   "source": [
    "#import dependencies\n",
    "import pandas as pd #dataframe\n",
    "import numpy as np  #array methods"
   ]
  },
  {
   "cell_type": "markdown",
   "metadata": {},
   "source": [
    "# Cleaning _new_ coal megawatts by country, year CSV file:"
   ]
  },
  {
   "cell_type": "code",
   "execution_count": null,
   "metadata": {},
   "outputs": [],
   "source": [
    "filepath = 'data/new_coal_MW.csv'#from https://globalenergymonitor.org/projects/global-coal-plant-tracker/summary-data/\n",
    "                                    #retrieved 2021-03-11"
   ]
  },
  {
   "cell_type": "code",
   "execution_count": null,
   "metadata": {},
   "outputs": [],
   "source": [
    "filepath = 'data/new_coal_MW.csv'#from https://globalenergymonitor.org/projects/global-coal-plant-tracker/summary-data/\n",
    "                                    #retrieved 2021-03-11"
   ]
  },
  {
   "cell_type": "code",
   "execution_count": null,
   "metadata": {},
   "outputs": [],
   "source": [
    "df_new = pd.read_csv(filepath, header=3) #ignore the top 3 rows (zero index). headers are in row 4"
   ]
  },
  {
   "cell_type": "code",
   "execution_count": null,
   "metadata": {},
   "outputs": [],
   "source": [
    "df_new.head() #checking the data for what needs to be cleaned"
   ]
  },
  {
   "cell_type": "code",
   "execution_count": null,
   "metadata": {},
   "outputs": [],
   "source": [
    "df_new.tail(10)"
   ]
  },
  {
   "cell_type": "code",
   "execution_count": null,
   "metadata": {},
   "outputs": [],
   "source": [
    "#Removing totals and subtotals\n",
    "df_new.drop('Total 2000-2020', axis=1, inplace = True) #totals column"
   ]
  },
  {
   "cell_type": "code",
   "execution_count": null,
   "metadata": {},
   "outputs": [],
   "source": [
    "df_new.drop(range(108,112), axis=0, inplace = True) #subtotal rows"
   ]
  },
  {
   "cell_type": "code",
   "execution_count": null,
   "metadata": {},
   "outputs": [],
   "source": [
    "df_new.describe()  #checking for any NaN (null) intersections. \n",
    "                        #count = 108 across all columns.\n",
    "                        #conclusion: no NaN intersection"
   ]
  },
  {
   "cell_type": "code",
   "execution_count": null,
   "metadata": {},
   "outputs": [],
   "source": [
    "#un-pivoting data into a normalizable format\n",
    "df = df_new.melt(id_vars = ['Country'], var_name='year', value_name='coal_mw_new')"
   ]
  },
  {
   "cell_type": "code",
   "execution_count": null,
   "metadata": {},
   "outputs": [],
   "source": [
    "#wrap Country column name to lowercase for consistency\n",
    "df.rename(columns = {'Country':'country'}, inplace=True)"
   ]
  },
  {
   "cell_type": "code",
   "execution_count": null,
   "metadata": {},
   "outputs": [],
   "source": [
    "print(df.columns) #just checking"
   ]
  },
  {
   "cell_type": "code",
   "execution_count": null,
   "metadata": {},
   "outputs": [],
   "source": [
    "len(df) #expecting 108*21 = 2268"
   ]
  },
  {
   "cell_type": "code",
   "execution_count": null,
   "metadata": {},
   "outputs": [],
   "source": [
    "df.dtypes #checking data types"
   ]
  },
  {
   "cell_type": "code",
   "execution_count": null,
   "metadata": {},
   "outputs": [],
   "source": [
    "#last column should be integer, appears to be numeric stored as string. Checking for any decimal values\n",
    "int_column = ['coal_mw_new']\n",
    "#checking for any decimal values\n",
    "df.coal_mw_new.unique() #no floats found, so setting to integer. Numerics have commas that will need to be stripped"
   ]
  },
  {
   "cell_type": "code",
   "execution_count": null,
   "metadata": {},
   "outputs": [],
   "source": [
    "df['coal_mw_new']=df['coal_mw_new'].str.replace(',','') #strip commas"
   ]
  },
  {
   "cell_type": "code",
   "execution_count": null,
   "metadata": {
    "scrolled": true
   },
   "outputs": [],
   "source": [
    "df['coal_mw_new'] = df['coal_mw_new'].astype(int) #cast values as int"
   ]
  },
  {
   "cell_type": "code",
   "execution_count": null,
   "metadata": {},
   "outputs": [],
   "source": [
    "df['coal_mw_new'].sum() #expecting 1,399,262 as per grand total in source file. getting 1,399,269, which is off by 7. Treating delta as immaterial b/c on percentage basis is well below 0.00% (zero bps)"
   ]
  },
  {
   "cell_type": "markdown",
   "metadata": {},
   "source": [
    "Note: double checking in Excel is feasible because rowcount<3,000. This step reveals that calculated Grand Total is more accurate. This probably reflects rounding errors in the totals and subtotals. "
   ]
  },
  {
   "cell_type": "code",
   "execution_count": null,
   "metadata": {},
   "outputs": [],
   "source": [
    "df.to_csv('data/coal_new_transformed')"
   ]
  },
  {
   "cell_type": "code",
   "execution_count": null,
   "metadata": {},
   "outputs": [],
   "source": [
    "df_new = pd.read_csv(filepath, header=3) #ignore the top 3 rows (zero index). headers are in row 4"
   ]
  },
  {
   "cell_type": "code",
   "execution_count": null,
   "metadata": {},
   "outputs": [],
   "source": [
    "df_new.head() #checking the data for what needs to be cleaned"
   ]
  },
  {
   "cell_type": "code",
   "execution_count": null,
   "metadata": {},
   "outputs": [],
   "source": [
    "df_new.tail(10)"
   ]
  },
  {
   "cell_type": "code",
   "execution_count": null,
   "metadata": {},
   "outputs": [],
   "source": [
    "#Removing totals and subtotals\n",
    "df_new.drop('Total 2000-2020', axis=1, inplace = True) #totals column"
   ]
  },
  {
   "cell_type": "code",
   "execution_count": null,
   "metadata": {},
   "outputs": [],
   "source": [
    "df_new.drop(range(108,112), axis=0, inplace = True) #subtotal rows"
   ]
  },
  {
   "cell_type": "code",
   "execution_count": null,
   "metadata": {},
   "outputs": [],
   "source": [
    "df_new"
   ]
  },
  {
   "cell_type": "code",
   "execution_count": null,
   "metadata": {},
   "outputs": [],
   "source": [
    "#un-pivoting data into a normalizable format\n",
    "df = df_new.melt(id_vars = ['Country'], var_name='year', value_name='coal_mw_new')"
   ]
  },
  {
   "cell_type": "code",
   "execution_count": null,
   "metadata": {},
   "outputs": [],
   "source": [
    "#wrap Country column name to lowercase for consistency\n",
    "df.rename(columns = {'Country':'country'}, inplace=True)"
   ]
  },
  {
   "cell_type": "code",
   "execution_count": null,
   "metadata": {},
   "outputs": [],
   "source": [
    "print(df.columns) #just checking"
   ]
  },
  {
   "cell_type": "code",
   "execution_count": null,
   "metadata": {},
   "outputs": [],
   "source": [
    "len(df) #expecting 108*21 = 2268"
   ]
  },
  {
   "cell_type": "code",
   "execution_count": null,
   "metadata": {},
   "outputs": [],
   "source": [
    "df.dtypes #checking data types"
   ]
  },
  {
   "cell_type": "code",
   "execution_count": null,
   "metadata": {},
   "outputs": [],
   "source": [
    "#last column should be integer, appears to be numeric stored as string. Checking for any decimal values\n",
    "int_column = ['coal_mw_new']\n",
    "#checking for any decimal values\n",
    "df.coal_mw_new.unique() #no floats found, so setting to integer. Numerics have commas that will need to be stripped"
   ]
  },
  {
   "cell_type": "code",
   "execution_count": null,
   "metadata": {},
   "outputs": [],
   "source": [
    "df['coal_mw_new']=df['coal_mw_new'].str.replace(',','') #strip commas"
   ]
  },
  {
   "cell_type": "code",
   "execution_count": null,
   "metadata": {
    "scrolled": true
   },
   "outputs": [],
   "source": [
    "df['coal_mw_new'] = df['coal_mw_new'].astype(int) #cast values as int"
   ]
  },
  {
   "cell_type": "code",
   "execution_count": null,
   "metadata": {},
   "outputs": [],
   "source": [
    "df['coal_mw_new'].sum() #expecting 1,399,262 as per grand total in source file. getting 1,399,269, which is off by 7. Treating delta as immaterial b/c on percentage basis is well below 0.00% (zero bps)"
   ]
  },
  {
   "cell_type": "markdown",
   "metadata": {},
   "source": [
    "Note: double checking in Excel is feasible because rowcount<3,000. This step reveals that calculated Grand Total is more accurate. This probably reflects rounding errors in the totals and subtotals. "
   ]
  },
  {
   "cell_type": "code",
   "execution_count": null,
   "metadata": {},
   "outputs": [],
   "source": [
    "#Write result to csv for later use:\n",
    "df.to_csv('data/coal_new_transformed')"
   ]
  },
  {
   "cell_type": "markdown",
   "metadata": {},
   "source": [
    "# Cleaning _retired_ coal megawatts by country, year CSV file:"
   ]
  },
  {
   "cell_type": "code",
   "execution_count": null,
   "metadata": {},
   "outputs": [],
   "source": [
    "filepath = 'data/retired_coal_MW.csv'#from https://globalenergymonitor.org/projects/global-coal-plant-tracker/summary-data/\n",
    "                                        #retrieved 2021-03-11"
   ]
  },
  {
   "cell_type": "code",
   "execution_count": null,
   "metadata": {},
   "outputs": [],
   "source": [
    "df_retired = pd.read_csv(filepath, header=3) #ignore the top 3 rows (zero index). headers are in row 4"
   ]
  },
  {
   "cell_type": "code",
   "execution_count": null,
   "metadata": {
    "scrolled": true
   },
   "outputs": [],
   "source": [
    "df_retired.head() #checking the data for what needs to be cleaned"
   ]
  },
  {
   "cell_type": "code",
   "execution_count": null,
   "metadata": {},
   "outputs": [],
   "source": [
    "df_retired.columns"
   ]
  },
  {
   "cell_type": "code",
   "execution_count": null,
   "metadata": {},
   "outputs": [],
   "source": [
    "df_retired.tail(10)  #suspecting subtotal and total rows at the bottom of dataframe"
   ]
  },
  {
   "cell_type": "code",
   "execution_count": null,
   "metadata": {},
   "outputs": [],
   "source": [
    "#Removing totals and subtotals\n",
    "cols_to_drop = ['Dated 2000-2020','All retired (includes dated and undated)']\n",
    "\n",
    "df_retired.drop(cols_to_drop, axis=1, inplace = True) # subtotal and totals columns"
   ]
  },
  {
   "cell_type": "code",
   "execution_count": null,
   "metadata": {},
   "outputs": [],
   "source": [
    "df_retired.drop(range(108,111), axis=0, inplace = True) #subtotal rows"
   ]
  },
  {
   "cell_type": "code",
   "execution_count": null,
   "metadata": {},
   "outputs": [],
   "source": [
    "df_retired"
   ]
  },
  {
   "cell_type": "code",
   "execution_count": null,
   "metadata": {
    "scrolled": true
   },
   "outputs": [],
   "source": [
    "df_retired.describe()  #checking for any NaN (null) intersections. \n",
    "                        #count = 108 across all columns.\n",
    "                        #conclusion: no NaN intersection"
   ]
  },
  {
   "cell_type": "code",
   "execution_count": null,
   "metadata": {},
   "outputs": [],
   "source": [
    "#adding undated retired to year 2020. \n",
    "    #First need to convert numbers stored as string to numeric\n",
    "        #check for decimals to ensure int works\n",
    "        #remove commas in fields where value >= 1000\n",
    "    #Second sum the two columns\n",
    "#df_retired['2020_adjusted'] = df_retired['2020'] + df_retired['Undated']"
   ]
  },
  {
   "cell_type": "code",
   "execution_count": null,
   "metadata": {},
   "outputs": [],
   "source": [
    "df_retired.dtypes #expecting all columns to be object (str)"
   ]
  },
  {
   "cell_type": "code",
   "execution_count": null,
   "metadata": {},
   "outputs": [],
   "source": [
    "#Remove commas in data columns and cast result as int\n",
    "#This didn't work out, error that there is no attribute str on dataframe\n",
    "    #df_retired.iloc[:,1:].str.replace(',', '', axis=1).astype(int, inplace=True)\n",
    "#need a list of columns excluding the first column, then loop through list and replace df_retired['col'] commas, then cast as int    \n",
    "cols_to_convert = df_retired.columns[1:]"
   ]
  },
  {
   "cell_type": "code",
   "execution_count": null,
   "metadata": {
    "scrolled": true
   },
   "outputs": [],
   "source": [
    "for each_col in cols_to_convert:\n",
    "    df_retired[each_col]=df_retired[each_col].str.replace(',','').astype(int)"
   ]
  },
  {
   "cell_type": "code",
   "execution_count": null,
   "metadata": {},
   "outputs": [],
   "source": [
    "#combining 2020 and undated columns\n",
    "df_retired['2020_adj'] = df_retired['2020']+df_retired['Undated']\n",
    "df_retired.head() #checking for any emergent issues, none found"
   ]
  },
  {
   "cell_type": "code",
   "execution_count": null,
   "metadata": {},
   "outputs": [],
   "source": [
    "#Dropping no longer needed columns\n",
    "cols_to_drop = ['Undated', '2020']\n",
    "df_retired.drop(cols_to_drop, inplace=True, axis=1)\n"
   ]
  },
  {
   "cell_type": "code",
   "execution_count": null,
   "metadata": {},
   "outputs": [],
   "source": [
    "#un-pivoting data into a normalizable format\n",
    "df = df_retired.melt(id_vars = ['Country'], var_name='year', value_name='coal_mw_retired')"
   ]
  },
  {
   "cell_type": "code",
   "execution_count": null,
   "metadata": {},
   "outputs": [],
   "source": [
    "#wrap Country column name to lowercase for consistency\n",
    "df.rename(columns = {'Country':'country'}, inplace=True)"
   ]
  },
  {
   "cell_type": "code",
   "execution_count": null,
   "metadata": {},
   "outputs": [],
   "source": [
    "print(df.dtypes) #checking data types to spot datatype conflicts. None found."
   ]
  },
  {
   "cell_type": "code",
   "execution_count": null,
   "metadata": {},
   "outputs": [],
   "source": [
    "len(df) #expecting 108*21 = 2268"
   ]
  },
  {
   "cell_type": "code",
   "execution_count": null,
   "metadata": {},
   "outputs": [],
   "source": [
    "df['coal_mw_retired'].sum() #expecting 383,026 as per grand total in source file. \n",
    "                            #getting 383,032, which is off by 6. Treating delta as immaterial b/c on percentage basis is well below 0.00% (zero bps)"
   ]
  },
  {
   "cell_type": "markdown",
   "metadata": {},
   "source": [
    "Note: similar to the new capacity file, double checking in Excel is feasible because rowcount<3,000. This step reveals that calculated Grand Total is again more accurate. This probably reflects rounding errors in the totals and subtotals. "
   ]
  },
  {
   "cell_type": "code",
   "execution_count": null,
   "metadata": {},
   "outputs": [],
   "source": [
    "len(df)"
   ]
  },
  {
   "cell_type": "code",
   "execution_count": null,
   "metadata": {},
   "outputs": [],
   "source": [
    "#Write result to csv for later use:\n",
    "df.to_csv('data/coal_retired_transformed.csv')"
   ]
  },
  {
   "cell_type": "code",
   "execution_count": null,
   "metadata": {},
   "outputs": [],
   "source": []
  }
 ],
 "metadata": {
  "kernelspec": {
   "display_name": "Python 3",
   "language": "python",
   "name": "python3"
  },
  "language_info": {
   "codemirror_mode": {
    "name": "ipython",
    "version": 3
   },
   "file_extension": ".py",
   "mimetype": "text/x-python",
   "name": "python",
   "nbconvert_exporter": "python",
   "pygments_lexer": "ipython3",
   "version": "3.8.3"
  }
 },
 "nbformat": 4,
 "nbformat_minor": 4
}
